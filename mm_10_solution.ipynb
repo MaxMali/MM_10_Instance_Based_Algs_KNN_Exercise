{
 "cells": [
  {
   "cell_type": "code",
   "execution_count": 1,
   "metadata": {
    "pycharm": {
     "name": "#%%\n"
    }
   },
   "outputs": [
    {
     "name": "stdout",
     "output_type": "stream",
     "text": [
      "[5.1 3.5 1.4 0.2] [5.7 2.6 3.5 1. ] [6.3 3.3 6.  2.5]\n",
      "0 1 2\n"
     ]
    },
    {
     "data": {
      "text/plain": "array([[4.9, 3. , 1.4, 0.2],\n       [4.7, 3.2, 1.3, 0.2],\n       [4.6, 3.1, 1.5, 0.2],\n       [5. , 3.6, 1.4, 0.2],\n       [5.4, 3.9, 1.7, 0.4],\n       [4.6, 3.4, 1.4, 0.3],\n       [5. , 3.4, 1.5, 0.2],\n       [4.4, 2.9, 1.4, 0.2],\n       [4.9, 3.1, 1.5, 0.1]])"
     },
     "execution_count": 1,
     "metadata": {},
     "output_type": "execute_result"
    }
   ],
   "source": [
    "%matplotlib inline\n",
    "import numpy as np\n",
    "from sklearn import datasets\n",
    "iris = datasets.load_iris()\n",
    "iris_data = iris.data\n",
    "iris_labels = iris.target\n",
    "print(iris_data[0], iris_data[79], iris_data[100])\n",
    "print(iris_labels[0], iris_labels[79], iris_labels[100])\n",
    "iris_data[1:10]\n"
   ]
  },
  {
   "cell_type": "code",
   "execution_count": 2,
   "metadata": {
    "pycharm": {
     "name": "#%%\n"
    }
   },
   "outputs": [
    {
     "name": "stdout",
     "output_type": "stream",
     "text": [
      "[[6.1 2.8 4.7 1.2]\n",
      " [5.7 3.8 1.7 0.3]\n",
      " [7.7 2.6 6.9 2.3]\n",
      " [6.  2.9 4.5 1.5]] [1 0 2 1]\n",
      "[[5.7 2.8 4.1 1.3]\n",
      " [6.5 3.  5.5 1.8]\n",
      " [6.3 2.3 4.4 1.3]\n",
      " [6.4 2.9 4.3 1.3]] [1 2 1 1]\n"
     ]
    }
   ],
   "source": [
    "np.random.seed(42)\n",
    "indices = np.random.permutation(len(iris_data))\n",
    "n_training_samples = 12\n",
    "learnset_data = iris_data[indices[:-n_training_samples]]\n",
    "learnset_labels = iris_labels[indices[:-n_training_samples]]\n",
    "testset_data = iris_data[indices[-n_training_samples:]]\n",
    "testset_labels = iris_labels[indices[-n_training_samples:]]\n",
    "print(learnset_data[:4], learnset_labels[:4])\n",
    "print(testset_data[:4], testset_labels[:4])"
   ]
  },
  {
   "cell_type": "code",
   "execution_count": 3,
   "metadata": {
    "pycharm": {
     "name": "#%%\n"
    }
   },
   "outputs": [
    {
     "name": "stdout",
     "output_type": "stream",
     "text": [
      "4.47213595499958\n",
      "3.4190641994557516\n"
     ]
    }
   ],
   "source": [
    "def distance(instance1, instance2):\n",
    "    # just in case, if the instances are lists or tuples:\n",
    "    instance1 = np.array(instance1)\n",
    "    instance2 = np.array(instance2)\n",
    "\n",
    "    return np.linalg.norm(instance1 - instance2)\n",
    "print(distance([3, 5], [1, 1]))\n",
    "print(distance(learnset_data[3], learnset_data[44]))"
   ]
  },
  {
   "cell_type": "code",
   "execution_count": 4,
   "metadata": {
    "pycharm": {
     "name": "#%%\n"
    }
   },
   "outputs": [],
   "source": [
    "def get_neighbors(training_set,\n",
    "                  labels,\n",
    "                  test_instance,\n",
    "                  k,\n",
    "                  distance=distance):\n",
    "    \"\"\"\n",
    "    get_neighors calculates a list of the k nearest neighbors\n",
    "    of an instance 'test_instance'.\n",
    "    The list neighbors contains 3-tuples with\n",
    "    (index, dist, label)\n",
    "    where\n",
    "    index    is the index from the training_set,\n",
    "    dist     is the distance between the test_instance and the\n",
    "             instance training_set[index]\n",
    "    distance is a reference to a function used to calculate the\n",
    "             distances\n",
    "    \"\"\"\n",
    "    distances = []\n",
    "    for index in range(len(training_set)):\n",
    "        dist = distance(test_instance, training_set[index])\n",
    "        distances.append((training_set[index], dist, labels[index]))\n",
    "    distances.sort(key=lambda x: x[1])\n",
    "    neighbors = distances[:k]\n",
    "    return neighbors"
   ]
  },
  {
   "cell_type": "code",
   "execution_count": 5,
   "metadata": {
    "pycharm": {
     "name": "#%%\n"
    }
   },
   "outputs": [
    {
     "name": "stdout",
     "output_type": "stream",
     "text": [
      "0 [5.7 2.8 4.1 1.3] 1 [(array([5.7, 2.9, 4.2, 1.3]), 0.14142135623730995, 1), (array([5.6, 2.7, 4.2, 1.3]), 0.17320508075688815, 1), (array([5.6, 3. , 4.1, 1.3]), 0.22360679774997935, 1)]\n",
      "1 [6.5 3.  5.5 1.8] 2 [(array([6.4, 3.1, 5.5, 1.8]), 0.1414213562373093, 2), (array([6.3, 2.9, 5.6, 1.8]), 0.24494897427831783, 2), (array([6.5, 3. , 5.2, 2. ]), 0.3605551275463988, 2)]\n",
      "2 [6.3 2.3 4.4 1.3] 1 [(array([6.2, 2.2, 4.5, 1.5]), 0.2645751311064586, 1), (array([6.3, 2.5, 4.9, 1.5]), 0.574456264653803, 1), (array([6. , 2.2, 4. , 1. ]), 0.5916079783099617, 1)]\n",
      "3 [6.4 2.9 4.3 1.3] 1 [(array([6.2, 2.9, 4.3, 1.3]), 0.20000000000000018, 1), (array([6.6, 3. , 4.4, 1.4]), 0.2645751311064587, 1), (array([6.6, 2.9, 4.6, 1.3]), 0.3605551275463984, 1)]\n",
      "4 [5.6 2.8 4.9 2. ] 2 [(array([5.8, 2.7, 5.1, 1.9]), 0.3162277660168375, 2), (array([5.8, 2.7, 5.1, 1.9]), 0.3162277660168375, 2), (array([5.7, 2.5, 5. , 2. ]), 0.33166247903553986, 2)]\n"
     ]
    }
   ],
   "source": [
    "for i in range(5):\n",
    "    neighbors = get_neighbors(learnset_data,\n",
    "                              learnset_labels,\n",
    "                              testset_data[i],\n",
    "                              3,\n",
    "                              distance=distance)\n",
    "    print(i,\n",
    "          testset_data[i],\n",
    "          testset_labels[i],\n",
    "          neighbors)"
   ]
  },
  {
   "cell_type": "code",
   "execution_count": 6,
   "metadata": {
    "pycharm": {
     "name": "#%%\n"
    }
   },
   "outputs": [
    {
     "name": "stdout",
     "output_type": "stream",
     "text": [
      "[4.8, 2.5, 5.3, 2.4] [(array([5.7, 2.5, 5. , 2. ]), 1.0295630140987002, 2), (array([5.8, 2.8, 5.1, 2.4]), 1.0630145812734648, 2), (array([5.8, 2.7, 5.1, 1.9]), 1.1532562594670797, 2), (array([5.8, 2.7, 5.1, 1.9]), 1.1532562594670797, 2), (array([5.4, 3. , 4.5, 1.5]), 1.4352700094407325, 1), (array([6. , 2.7, 5.1, 1.6]), 1.469693845669907, 1), (array([6. , 3. , 4.8, 1.8]), 1.5165750888103102, 2), (array([5.9, 3.2, 4.8, 1.8]), 1.5198684153570667, 1), (array([5.6, 3. , 4.5, 1.5]), 1.5297058540778352, 1), (array([6. , 2.2, 5. , 1.5]), 1.5588457268119895, 2)]\n"
     ]
    }
   ],
   "source": [
    "testset_data_a = ([4.8, 2.5, 5.3, 2.4])\n",
    "neighborsu = get_neighbors(learnset_data,\n",
    "                              learnset_labels,\n",
    "                              testset_data_a,\n",
    "                              10,\n",
    "                              distance=distance)\n",
    "print(testset_data_a,neighborsu)"
   ]
  },
  {
   "cell_type": "code",
   "execution_count": 7,
   "metadata": {
    "pycharm": {
     "name": "#%%\n"
    }
   },
   "outputs": [],
   "source": [
    "from collections import Counter\n",
    "def vote(neighbors):\n",
    "    class_counter = Counter()\n",
    "    for neighbor in neighbors:\n",
    "        class_counter[neighbor[2]] += 1\n",
    "    return class_counter.most_common(1)[0][0]"
   ]
  },
  {
   "cell_type": "code",
   "execution_count": 8,
   "metadata": {
    "pycharm": {
     "name": "#%%\n"
    }
   },
   "outputs": [
    {
     "name": "stdout",
     "output_type": "stream",
     "text": [
      "index:  10 , result of vote:  2 , label:  , data:  [4.8, 2.5, 5.3, 2.4]\n"
     ]
    }
   ],
   "source": [
    "\n",
    "print(\"index: \", 10,\n",
    "          \", result of vote: \", vote(neighborsu),\n",
    "          \", label: \",\n",
    "          \", data: \", testset_data_a)"
   ]
  },
  {
   "cell_type": "code",
   "execution_count": 9,
   "metadata": {
    "pycharm": {
     "name": "#%%\n"
    }
   },
   "outputs": [
    {
     "name": "stdout",
     "output_type": "stream",
     "text": [
      "index:  0 , result of vote:  2 , data:  [4.8, 2.5, 5.3, 2.4]\n",
      "index:  1 , result of vote:  2 , data:  [4.8, 2.5, 5.3, 2.4]\n",
      "index:  2 , result of vote:  2 , data:  [4.8, 2.5, 5.3, 2.4]\n",
      "index:  3 , result of vote:  2 , data:  [4.8, 2.5, 5.3, 2.4]\n",
      "index:  4 , result of vote:  2 , data:  [4.8, 2.5, 5.3, 2.4]\n",
      "index:  5 , result of vote:  2 , data:  [4.8, 2.5, 5.3, 2.4]\n",
      "index:  6 , result of vote:  2 , data:  [4.8, 2.5, 5.3, 2.4]\n",
      "index:  7 , result of vote:  2 , data:  [4.8, 2.5, 5.3, 2.4]\n",
      "index:  8 , result of vote:  2 , data:  [4.8, 2.5, 5.3, 2.4]\n",
      "index:  9 , result of vote:  2 , data:  [4.8, 2.5, 5.3, 2.4]\n",
      "index:  10 , result of vote:  2 , data:  [4.8, 2.5, 5.3, 2.4]\n",
      "index:  11 , result of vote:  2 , data:  [4.8, 2.5, 5.3, 2.4]\n"
     ]
    }
   ],
   "source": [
    "for i in range(n_training_samples):\n",
    "    neighbors = get_neighbors(learnset_data,\n",
    "                              learnset_labels,\n",
    "                              testset_data_a,\n",
    "                              3,\n",
    "                              distance=distance)\n",
    "    print(\"index: \", i,\n",
    "          \", result of vote: \", vote(neighborsu),\n",
    "          \", data: \", testset_data_a)"
   ]
  },
  {
   "cell_type": "markdown",
   "metadata": {},
   "source": [
    "result of vote:  2  -> Klasse 2 bedeutet es ist eine Iris Virginica !\n",
    "\n",
    "\n"
   ]
  }
 ],
 "metadata": {
  "kernelspec": {
   "display_name": "Python 3",
   "language": "python",
   "name": "python3"
  },
  "language_info": {
   "codemirror_mode": {
    "name": "ipython",
    "version": 3
   },
   "file_extension": ".py",
   "mimetype": "text/x-python",
   "name": "python",
   "nbconvert_exporter": "python",
   "pygments_lexer": "ipython3",
   "version": "3.8.3"
  }
 },
 "nbformat": 4,
 "nbformat_minor": 1
}